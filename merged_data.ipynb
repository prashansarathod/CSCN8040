{
 "cells": [
  {
   "cell_type": "code",
   "execution_count": 1,
   "id": "927bfa16",
   "metadata": {},
   "outputs": [],
   "source": [
    "import pandas as pd\n",
    "import numpy as np\n",
    "\n"
   ]
  },
  {
   "cell_type": "code",
   "execution_count": 3,
   "id": "e262cfed",
   "metadata": {},
   "outputs": [],
   "source": [
    "# Step 1: Load PM2.5 data\n",
    "df_alabama = pd.read_csv(\"data/Albama.csv\")\n",
    "df_california = pd.read_csv(\"data/California.csv\")\n",
    "\n"
   ]
  },
  {
   "cell_type": "code",
   "execution_count": 4,
   "id": "e8cbdf2a",
   "metadata": {},
   "outputs": [],
   "source": [
    "# Step 2: Combine both datasets\n",
    "df_pm25 = pd.concat([df_alabama, df_california], ignore_index=True)\n",
    "\n"
   ]
  },
  {
   "cell_type": "code",
   "execution_count": 5,
   "id": "a9dda930",
   "metadata": {},
   "outputs": [],
   "source": [
    "# Step 3: Aggregate PM2.5 by State and County\n",
    "pm25_by_county = (\n",
    "    df_pm25.groupby(['State', 'County'])['Daily Mean PM2.5 Concentration']\n",
    "    .mean()\n",
    "    .reset_index()\n",
    "    .rename(columns={'Daily Mean PM2.5 Concentration': 'Average_PM2.5_2020'})\n",
    ")\n",
    "\n"
   ]
  },
  {
   "cell_type": "code",
   "execution_count": 6,
   "id": "3ea094a9",
   "metadata": {},
   "outputs": [],
   "source": [
    "# Step 4: Simulate heating-related features\n",
    "np.random.seed(42)\n",
    "pm25_by_county[\"Avg_Income_Bracket\"] = np.random.randint(1, 6, size=len(pm25_by_county))  # 1=lowest, 5=highest\n",
    "pm25_by_county[\"Wood_Usage_%\"] = np.round(np.random.uniform(3, 20, size=len(pm25_by_county)), 2)\n",
    "\n"
   ]
  },
  {
   "cell_type": "code",
   "execution_count": 7,
   "id": "6264ab6e",
   "metadata": {},
   "outputs": [],
   "source": [
    "# Step 5: Calculate Subsidy Priority Score\n",
    "pm25_by_county[\"Subsidy_Priority_Score\"] = (\n",
    "    pm25_by_county[\"Wood_Usage_%\"]\n",
    "    * (6 - pm25_by_county[\"Avg_Income_Bracket\"])\n",
    "    * pm25_by_county[\"Average_PM2.5_2020\"]\n",
    ").round(2)\n",
    "\n"
   ]
  },
  {
   "cell_type": "code",
   "execution_count": 8,
   "id": "5fca8208",
   "metadata": {},
   "outputs": [
    {
     "name": "stdout",
     "output_type": "stream",
     "text": [
      "✅ File saved as 'merged_subsidy_priority_data.csv'\n"
     ]
    }
   ],
   "source": [
    "# Step 6: Save to CSV\n",
    "pm25_by_county.to_csv(\"merged_subsidy_priority_data.csv\", index=False)\n",
    "\n",
    "print(\"✅ File saved as 'merged_subsidy_priority_data.csv'\")\n"
   ]
  },
  {
   "cell_type": "code",
   "execution_count": null,
   "id": "39fec514",
   "metadata": {},
   "outputs": [],
   "source": []
  }
 ],
 "metadata": {
  "kernelspec": {
   "display_name": "pm2.5",
   "language": "python",
   "name": "python3"
  },
  "language_info": {
   "codemirror_mode": {
    "name": "ipython",
    "version": 3
   },
   "file_extension": ".py",
   "mimetype": "text/x-python",
   "name": "python",
   "nbconvert_exporter": "python",
   "pygments_lexer": "ipython3",
   "version": "3.13.1"
  }
 },
 "nbformat": 4,
 "nbformat_minor": 5
}
